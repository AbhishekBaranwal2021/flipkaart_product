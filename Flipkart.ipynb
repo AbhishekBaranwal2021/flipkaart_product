{
 "cells": [
  {
   "cell_type": "code",
   "execution_count": 5,
   "source": [
    "# Import the needed modules...\r\n",
    "import pandas as pd\r\n",
    "from collections import defaultdict\r\n",
    "from os import getcwd"
   ],
   "outputs": [],
   "metadata": {}
  },
  {
   "cell_type": "code",
   "execution_count": 6,
   "source": [],
   "outputs": [],
   "metadata": {}
  },
  {
   "cell_type": "code",
   "execution_count": 9,
   "source": [
    "\"\"\"\r\n",
    "    Read data from laptops.csv\r\n",
    "\"\"\"\r\n",
    "df_laptops= pd.read_csv('laptops.csv')\r\n",
    "laptops_table_columns = df_laptops.columns.tolist()\r\n",
    "print(f\"COLUMNS : {laptops_table_columns}\")"
   ],
   "outputs": [
    {
     "output_type": "stream",
     "name": "stdout",
     "text": [
      "COLUMNS : ['ProductName', 'Price', 'OriginalPrices', 'Discountrates', 'Ratings']\n"
     ]
    }
   ],
   "metadata": {}
  },
  {
   "cell_type": "code",
   "execution_count": 10,
   "source": [
    "\"\"\"\r\n",
    "    Read data from books.csv\r\n",
    "\"\"\"\r\n",
    "df_books            = pd.read_csv('books.csv')\r\n",
    "books_table_columns = df_books.columns.tolist()\r\n",
    "print(f\"COLUMNS : {books_table_columns}\")"
   ],
   "outputs": [
    {
     "output_type": "stream",
     "name": "stdout",
     "text": [
      "COLUMNS : ['ProductName', 'Price', 'OriginalPrices', 'Discountrates']\n"
     ]
    }
   ],
   "metadata": {}
  },
  {
   "cell_type": "code",
   "execution_count": 14,
   "source": [
    "\"\"\"\r\n",
    "    Read data from food.csv\r\n",
    "\"\"\"\r\n",
    "df_food         = pd.read_csv('food.csv')\r\n",
    "path_table_columns = df_food.columns.tolist()\r\n",
    "print(f\"COLUMNS : {path_table_columns}\")"
   ],
   "outputs": [
    {
     "output_type": "stream",
     "name": "stdout",
     "text": [
      "COLUMNS : ['ProductName', 'Price', 'OriginalPrices', 'Discountrates']\n"
     ]
    }
   ],
   "metadata": {}
  },
  {
   "cell_type": "code",
   "execution_count": 15,
   "source": [
    "\"\"\"\r\n",
    "    Read data from mobiles.csv\r\n",
    "\"\"\"\r\n",
    "df_mobiles           = pd.read_csv('mobiles.csv')\r\n",
    "mobiles_table_columns = df_mobiles.columns.tolist()\r\n",
    "print(f\"COLUMNS : {mobiles_table_columns}\")"
   ],
   "outputs": [
    {
     "output_type": "stream",
     "name": "stdout",
     "text": [
      "COLUMNS : ['ProductName', 'Price', 'OriginalPrices', 'Discountrates', 'Ratings']\n"
     ]
    }
   ],
   "metadata": {}
  },
  {
   "cell_type": "code",
   "execution_count": 16,
   "source": [
    "print(f\"It is {pd.Series(df_laptops['ProductName']).is_unique}  that the column 'Product Name' has unique values for all entries in movies dataframe.\")\r\n",
    "print(f\"It is {pd.Series(df_books['ProductName']).is_unique}  that the column 'Product Name' has unique values for all entries in links dataframe.\")\r\n",
    "print(f\"It is {pd.Series(df_food['ProductName']).is_unique} that the column 'Product Name'  has unique values for all entries in ratings dataframe.\")\r\n",
    "print(f\"It is {pd.Series(df_mobiles['ProductName']).is_unique} that the column 'Product Name'  has unique values for all entries in tags dataframe.\")\r\n",
    "\r\n",
    "# Sort movie dataframe on the basis of movieId as movieId is unique for all entries...\r\n",
    "df_laptops_sorted = df_laptops.sort_values(by=['ProductName'])\r\n",
    "\r\n",
    "# Sort links dataframe on the basis of movieId as movieId is unique for all entries...\r\n",
    "df_books_sorted  = df_books.sort_values(by=['ProductName'])"
   ],
   "outputs": [
    {
     "output_type": "stream",
     "name": "stdout",
     "text": [
      "It is False  that the column 'Product Name' has unique values for all entries in movies dataframe.\n",
      "It is False  that the column 'Product Name' has unique values for all entries in links dataframe.\n",
      "It is False that the column 'Product Name'  has unique values for all entries in ratings dataframe.\n",
      "It is False that the column 'Product Name'  has unique values for all entries in tags dataframe.\n"
     ]
    }
   ],
   "metadata": {}
  },
  {
   "cell_type": "code",
   "execution_count": 17,
   "source": [
    "df_laptops = df_laptops.dropna(thresh=5)"
   ],
   "outputs": [],
   "metadata": {}
  },
  {
   "cell_type": "code",
   "execution_count": 18,
   "source": [
    "# from movies dataframe...\r\n",
    "ProductName   = df_laptops_sorted[\"ProductName\"].tolist()\r\n",
    "Price = df_laptops_sorted[\"Price\"].tolist()\r\n",
    "OriginalPrices = [OriginalPrices.split(\"|\") for OriginalPrices in df_laptops[\"OriginalPrices\"].tolist()]\r\n"
   ],
   "outputs": [],
   "metadata": {}
  },
  {
   "cell_type": "code",
   "execution_count": 19,
   "source": [
    "\r\n",
    "# from links dataframe...\r\n",
    "DiscountRate = df_books_sorted[\"Discountrates\"].tolist()\r\n",
    "ProductName = df_books_sorted[\"ProductName\"].tolist()"
   ],
   "outputs": [],
   "metadata": {}
  },
  {
   "cell_type": "code",
   "execution_count": 23,
   "source": [
    "productDict             = {}\r\n",
    "global_secondaryIndex = {}\r\n",
    "for idx, ProductName in enumerate(ProductName):\r\n",
    "    productDict[ProductName] = {\r\n",
    "        \"OriginalPrices\" : OriginalPrices[idx],\r\n",
    "        \"books\" : {\r\n",
    "            \"Discount_Rates\" : DiscountRate[idx], \r\n",
    "            \"Product_name\" : ProductName[idx]\r\n",
    "        }\r\n",
    "    }\r\n",
    "    \r\n",
    "    global_secondaryIndex[Price[idx]] = ProductName"
   ],
   "outputs": [],
   "metadata": {}
  },
  {
   "cell_type": "code",
   "execution_count": null,
   "source": [
    "\r\n"
   ],
   "outputs": [],
   "metadata": {}
  },
  {
   "cell_type": "code",
   "execution_count": null,
   "source": [],
   "outputs": [],
   "metadata": {}
  }
 ],
 "metadata": {
  "kernelspec": {
   "display_name": "Python 3",
   "language": "python",
   "name": "python3"
  },
  "language_info": {
   "codemirror_mode": {
    "name": "ipython",
    "version": 3
   },
   "file_extension": ".py",
   "mimetype": "text/x-python",
   "name": "python",
   "nbconvert_exporter": "python",
   "pygments_lexer": "ipython3",
   "version": "3.8.8"
  }
 },
 "nbformat": 4,
 "nbformat_minor": 5
}